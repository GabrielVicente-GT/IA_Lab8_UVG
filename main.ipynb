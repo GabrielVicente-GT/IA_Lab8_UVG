{
 "cells": [
  {
   "attachments": {},
   "cell_type": "markdown",
   "metadata": {},
   "source": [
    "Universidad del valle de Guatemala</br>\n",
    "Facultad de Ingeniería</br>\n",
    "Departamento de ciencias de la Computación</br>\n",
    "Inteligencia Artificial\n",
    "\n",
    "Grupo # 5\n",
    "\n",
    "Gabriel Vicente 2049"
   ]
  },
  {
   "attachments": {},
   "cell_type": "markdown",
   "metadata": {},
   "source": [
    "# Laboratorio 8: Mixture Models y Segmentación de Clientes de Banco</br>\n",
    "Deberá construir un modelo basado en aprendizaje no supervisado para el dataset dado. Lo que se busca con este modelo es poder segmentar a clientes de una entidad bancaria para poder así tomar decisiones a nivel comercial y potenciar las operaciones de la empresa"
   ]
  },
  {
   "cell_type": "code",
   "execution_count": 22,
   "metadata": {},
   "outputs": [
    {
     "data": {
      "text/html": [
       "<div>\n",
       "<style scoped>\n",
       "    .dataframe tbody tr th:only-of-type {\n",
       "        vertical-align: middle;\n",
       "    }\n",
       "\n",
       "    .dataframe tbody tr th {\n",
       "        vertical-align: top;\n",
       "    }\n",
       "\n",
       "    .dataframe thead th {\n",
       "        text-align: right;\n",
       "    }\n",
       "</style>\n",
       "<table border=\"1\" class=\"dataframe\">\n",
       "  <thead>\n",
       "    <tr style=\"text-align: right;\">\n",
       "      <th></th>\n",
       "      <th>CustAccountBalance</th>\n",
       "      <th>TransactionTime</th>\n",
       "      <th>TransactionAmount (INR)</th>\n",
       "    </tr>\n",
       "  </thead>\n",
       "  <tbody>\n",
       "    <tr>\n",
       "      <th>count</th>\n",
       "      <td>1.046198e+06</td>\n",
       "      <td>1.048567e+06</td>\n",
       "      <td>1.048567e+06</td>\n",
       "    </tr>\n",
       "    <tr>\n",
       "      <th>mean</th>\n",
       "      <td>1.154035e+05</td>\n",
       "      <td>1.570875e+05</td>\n",
       "      <td>1.574335e+03</td>\n",
       "    </tr>\n",
       "    <tr>\n",
       "      <th>std</th>\n",
       "      <td>8.464854e+05</td>\n",
       "      <td>5.126185e+04</td>\n",
       "      <td>6.574743e+03</td>\n",
       "    </tr>\n",
       "    <tr>\n",
       "      <th>min</th>\n",
       "      <td>0.000000e+00</td>\n",
       "      <td>0.000000e+00</td>\n",
       "      <td>0.000000e+00</td>\n",
       "    </tr>\n",
       "    <tr>\n",
       "      <th>25%</th>\n",
       "      <td>4.721760e+03</td>\n",
       "      <td>1.240300e+05</td>\n",
       "      <td>1.610000e+02</td>\n",
       "    </tr>\n",
       "    <tr>\n",
       "      <th>50%</th>\n",
       "      <td>1.679218e+04</td>\n",
       "      <td>1.642260e+05</td>\n",
       "      <td>4.590300e+02</td>\n",
       "    </tr>\n",
       "    <tr>\n",
       "      <th>75%</th>\n",
       "      <td>5.765736e+04</td>\n",
       "      <td>2.000100e+05</td>\n",
       "      <td>1.200000e+03</td>\n",
       "    </tr>\n",
       "    <tr>\n",
       "      <th>max</th>\n",
       "      <td>1.150355e+08</td>\n",
       "      <td>2.359590e+05</td>\n",
       "      <td>1.560035e+06</td>\n",
       "    </tr>\n",
       "  </tbody>\n",
       "</table>\n",
       "</div>"
      ],
      "text/plain": [
       "       CustAccountBalance  TransactionTime  TransactionAmount (INR)\n",
       "count        1.046198e+06     1.048567e+06             1.048567e+06\n",
       "mean         1.154035e+05     1.570875e+05             1.574335e+03\n",
       "std          8.464854e+05     5.126185e+04             6.574743e+03\n",
       "min          0.000000e+00     0.000000e+00             0.000000e+00\n",
       "25%          4.721760e+03     1.240300e+05             1.610000e+02\n",
       "50%          1.679218e+04     1.642260e+05             4.590300e+02\n",
       "75%          5.765736e+04     2.000100e+05             1.200000e+03\n",
       "max          1.150355e+08     2.359590e+05             1.560035e+06"
      ]
     },
     "metadata": {},
     "output_type": "display_data"
    }
   ],
   "source": [
    "import pandas as pd \n",
    "import seaborn as sns \n",
    "\n",
    "df = pd.read_csv('./CSV/bank_transactions.csv')\n",
    "display(df.describe())"
   ]
  },
  {
   "attachments": {},
   "cell_type": "markdown",
   "metadata": {},
   "source": [
    "## Análisis exploratorio breve"
   ]
  },
  {
   "cell_type": "code",
   "execution_count": 23,
   "metadata": {},
   "outputs": [],
   "source": [
    "from ydata_profiling import ProfileReport\n",
    "# profile = ProfileReport(df, title='Informe de perfil de datos', explorative=True)\n",
    "# profile"
   ]
  },
  {
   "cell_type": "code",
   "execution_count": 24,
   "metadata": {},
   "outputs": [
    {
     "data": {
      "text/plain": [
       "'Número de filas:'"
      ]
     },
     "metadata": {},
     "output_type": "display_data"
    },
    {
     "data": {
      "text/plain": [
       "1048567"
      ]
     },
     "metadata": {},
     "output_type": "display_data"
    },
    {
     "data": {
      "text/plain": [
       "'Número de columnas:'"
      ]
     },
     "metadata": {},
     "output_type": "display_data"
    },
    {
     "data": {
      "text/plain": [
       "9"
      ]
     },
     "metadata": {},
     "output_type": "display_data"
    },
    {
     "data": {
      "text/plain": [
       "TransactionID                 0\n",
       "CustomerID                    0\n",
       "CustomerDOB                3397\n",
       "CustGender                 1100\n",
       "CustLocation                151\n",
       "CustAccountBalance         2369\n",
       "TransactionDate               0\n",
       "TransactionTime               0\n",
       "TransactionAmount (INR)       0\n",
       "dtype: int64"
      ]
     },
     "metadata": {},
     "output_type": "display_data"
    },
    {
     "data": {
      "image/png": "[encoded data removed]",
      "text/plain": [
       "<Figure size 720x576 with 4 Axes>"
      ]
     },
     "metadata": {
      "needs_background": "light"
     },
     "output_type": "display_data"
    },
    {
     "data": {
      "text/html": [
       "<div>\n",
       "<style scoped>\n",
       "    .dataframe tbody tr th:only-of-type {\n",
       "        vertical-align: middle;\n",
       "    }\n",
       "\n",
       "    .dataframe tbody tr th {\n",
       "        vertical-align: top;\n",
       "    }\n",
       "\n",
       "    .dataframe thead th {\n",
       "        text-align: right;\n",
       "    }\n",
       "</style>\n",
       "<table border=\"1\" class=\"dataframe\">\n",
       "  <thead>\n",
       "    <tr style=\"text-align: right;\">\n",
       "      <th></th>\n",
       "      <th>CustAccountBalance</th>\n",
       "      <th>TransactionTime</th>\n",
       "      <th>TransactionAmount (INR)</th>\n",
       "    </tr>\n",
       "  </thead>\n",
       "  <tbody>\n",
       "    <tr>\n",
       "      <th>CustAccountBalance</th>\n",
       "      <td>1.000000</td>\n",
       "      <td>-0.004094</td>\n",
       "      <td>0.062623</td>\n",
       "    </tr>\n",
       "    <tr>\n",
       "      <th>TransactionTime</th>\n",
       "      <td>-0.004094</td>\n",
       "      <td>1.000000</td>\n",
       "      <td>0.007915</td>\n",
       "    </tr>\n",
       "    <tr>\n",
       "      <th>TransactionAmount (INR)</th>\n",
       "      <td>0.062623</td>\n",
       "      <td>0.007915</td>\n",
       "      <td>1.000000</td>\n",
       "    </tr>\n",
       "  </tbody>\n",
       "</table>\n",
       "</div>"
      ],
      "text/plain": [
       "                         CustAccountBalance  TransactionTime  \\\n",
       "CustAccountBalance                 1.000000        -0.004094   \n",
       "TransactionTime                   -0.004094         1.000000   \n",
       "TransactionAmount (INR)            0.062623         0.007915   \n",
       "\n",
       "                         TransactionAmount (INR)  \n",
       "CustAccountBalance                      0.062623  \n",
       "TransactionTime                         0.007915  \n",
       "TransactionAmount (INR)                 1.000000  "
      ]
     },
     "metadata": {},
     "output_type": "display_data"
    },
    {
     "data": {
      "image/png": "[encoded data removed]",
      "text/plain": [
       "<Figure size 432x288 with 1 Axes>"
      ]
     },
     "metadata": {
      "needs_background": "light"
     },
     "output_type": "display_data"
    }
   ],
   "source": [
    "import matplotlib.pyplot as plt\n",
    "\n",
    "\n",
    "display(\"Número de filas:\", df.shape[0])\n",
    "display(\"Número de columnas:\", df.shape[1])\n",
    "\n",
    "\n",
    "display(df.isnull().sum())\n",
    "\n",
    "df.hist(bins=20, figsize=(10,8))\n",
    "plt.show()\n",
    "\n",
    "\n",
    "display(df.corr())\n",
    "\n",
    "plt.scatter(df['CustAccountBalance'], df['TransactionAmount (INR)'])\n",
    "plt.xlabel('Saldo de cuenta')\n",
    "plt.ylabel('Monto de transacción')\n",
    "plt.show()\n",
    "\n",
    "\n"
   ]
  },
  {
   "cell_type": "code",
   "execution_count": 25,
   "metadata": {},
   "outputs": [
    {
     "data": {
      "image/png": "[encoded data removed]",
      "text/plain": [
       "<Figure size 432x288 with 1 Axes>"
      ]
     },
     "metadata": {
      "needs_background": "light"
     },
     "output_type": "display_data"
    }
   ],
   "source": [
    "sns.histplot(data=df, x='CustAccountBalance', bins=20)\n",
    "plt.xlabel('Saldo de cuenta')\n",
    "plt.ylabel('Número de clientes')\n",
    "plt.title('Distribución del saldo de cuenta de los clientes')\n",
    "plt.show()"
   ]
  },
  {
   "attachments": {},
   "cell_type": "markdown",
   "metadata": {},
   "source": [
    "# Limpieza de datos"
   ]
  },
  {
   "cell_type": "code",
   "execution_count": 26,
   "metadata": {},
   "outputs": [
    {
     "data": {
      "text/plain": [
       "TransactionID                int32\n",
       "CustomerID                   int32\n",
       "CustGender                   int64\n",
       "CustLocation                 int32\n",
       "CustAccountBalance         float64\n",
       "TransactionTime              int64\n",
       "TransactionAmount (INR)    float64\n",
       "dtype: object"
      ]
     },
     "metadata": {},
     "output_type": "display_data"
    }
   ],
   "source": [
    "from sklearn.preprocessing import LabelEncoder\n",
    "df = df.dropna()\n",
    "le = LabelEncoder()\n",
    "df['CustLocation'] = le.fit_transform(df['CustLocation'])\n",
    "df['CustomerID'] = le.fit_transform(df['CustomerID'])\n",
    "df['TransactionID'] = le.fit_transform(df['TransactionID'])\n",
    "df['CustGender'] = df['CustGender'].replace({'M': 0, 'F': 1, 'T': 2})\n",
    "df.drop('CustomerDOB', axis=1, inplace=True)\n",
    "df.drop('TransactionDate', axis=1, inplace=True)\n",
    "display(df.dtypes)\n",
    "\n"
   ]
  },
  {
   "cell_type": "code",
   "execution_count": 27,
   "metadata": {},
   "outputs": [
    {
     "data": {
      "text/html": [
       "<div>\n",
       "<style scoped>\n",
       "    .dataframe tbody tr th:only-of-type {\n",
       "        vertical-align: middle;\n",
       "    }\n",
       "\n",
       "    .dataframe tbody tr th {\n",
       "        vertical-align: top;\n",
       "    }\n",
       "\n",
       "    .dataframe thead th {\n",
       "        text-align: right;\n",
       "    }\n",
       "</style>\n",
       "<table border=\"1\" class=\"dataframe\">\n",
       "  <thead>\n",
       "    <tr style=\"text-align: right;\">\n",
       "      <th></th>\n",
       "      <th>TransactionID</th>\n",
       "      <th>CustomerID</th>\n",
       "      <th>CustGender</th>\n",
       "      <th>CustLocation</th>\n",
       "      <th>CustAccountBalance</th>\n",
       "      <th>TransactionTime</th>\n",
       "      <th>TransactionAmount (INR)</th>\n",
       "    </tr>\n",
       "  </thead>\n",
       "  <tbody>\n",
       "    <tr>\n",
       "      <th>0</th>\n",
       "      <td>0</td>\n",
       "      <td>528810</td>\n",
       "      <td>1</td>\n",
       "      <td>3557</td>\n",
       "      <td>17819.05</td>\n",
       "      <td>143207</td>\n",
       "      <td>25.0</td>\n",
       "    </tr>\n",
       "    <tr>\n",
       "      <th>1</th>\n",
       "      <td>158671</td>\n",
       "      <td>128279</td>\n",
       "      <td>0</td>\n",
       "      <td>3618</td>\n",
       "      <td>2270.69</td>\n",
       "      <td>141858</td>\n",
       "      <td>27999.0</td>\n",
       "    </tr>\n",
       "    <tr>\n",
       "      <th>2</th>\n",
       "      <td>269022</td>\n",
       "      <td>370923</td>\n",
       "      <td>1</td>\n",
       "      <td>5219</td>\n",
       "      <td>17874.44</td>\n",
       "      <td>142712</td>\n",
       "      <td>459.0</td>\n",
       "    </tr>\n",
       "    <tr>\n",
       "      <th>3</th>\n",
       "      <td>379329</td>\n",
       "      <td>475246</td>\n",
       "      <td>1</td>\n",
       "      <td>5219</td>\n",
       "      <td>866503.21</td>\n",
       "      <td>142714</td>\n",
       "      <td>2060.0</td>\n",
       "    </tr>\n",
       "    <tr>\n",
       "      <th>4</th>\n",
       "      <td>489660</td>\n",
       "      <td>874339</td>\n",
       "      <td>1</td>\n",
       "      <td>5606</td>\n",
       "      <td>6714.43</td>\n",
       "      <td>181156</td>\n",
       "      <td>1762.5</td>\n",
       "    </tr>\n",
       "    <tr>\n",
       "      <th>...</th>\n",
       "      <td>...</td>\n",
       "      <td>...</td>\n",
       "      <td>...</td>\n",
       "      <td>...</td>\n",
       "      <td>...</td>\n",
       "      <td>...</td>\n",
       "      <td>...</td>\n",
       "    </tr>\n",
       "    <tr>\n",
       "      <th>1048562</th>\n",
       "      <td>53686</td>\n",
       "      <td>762547</td>\n",
       "      <td>0</td>\n",
       "      <td>5738</td>\n",
       "      <td>7635.19</td>\n",
       "      <td>184824</td>\n",
       "      <td>799.0</td>\n",
       "    </tr>\n",
       "    <tr>\n",
       "      <th>1048563</th>\n",
       "      <td>53687</td>\n",
       "      <td>595210</td>\n",
       "      <td>0</td>\n",
       "      <td>5580</td>\n",
       "      <td>27311.42</td>\n",
       "      <td>183734</td>\n",
       "      <td>460.0</td>\n",
       "    </tr>\n",
       "    <tr>\n",
       "      <th>1048564</th>\n",
       "      <td>53688</td>\n",
       "      <td>586255</td>\n",
       "      <td>0</td>\n",
       "      <td>3367</td>\n",
       "      <td>221757.06</td>\n",
       "      <td>183313</td>\n",
       "      <td>770.0</td>\n",
       "    </tr>\n",
       "    <tr>\n",
       "      <th>1048565</th>\n",
       "      <td>53689</td>\n",
       "      <td>588532</td>\n",
       "      <td>0</td>\n",
       "      <td>9059</td>\n",
       "      <td>10117.87</td>\n",
       "      <td>184706</td>\n",
       "      <td>1000.0</td>\n",
       "    </tr>\n",
       "    <tr>\n",
       "      <th>1048566</th>\n",
       "      <td>53690</td>\n",
       "      <td>799848</td>\n",
       "      <td>0</td>\n",
       "      <td>6656</td>\n",
       "      <td>75734.42</td>\n",
       "      <td>181222</td>\n",
       "      <td>1166.0</td>\n",
       "    </tr>\n",
       "  </tbody>\n",
       "</table>\n",
       "<p>1041614 rows × 7 columns</p>\n",
       "</div>"
      ],
      "text/plain": [
       "         TransactionID  CustomerID  CustGender  CustLocation  \\\n",
       "0                    0      528810           1          3557   \n",
       "1               158671      128279           0          3618   \n",
       "2               269022      370923           1          5219   \n",
       "3               379329      475246           1          5219   \n",
       "4               489660      874339           1          5606   \n",
       "...                ...         ...         ...           ...   \n",
       "1048562          53686      762547           0          5738   \n",
       "1048563          53687      595210           0          5580   \n",
       "1048564          53688      586255           0          3367   \n",
       "1048565          53689      588532           0          9059   \n",
       "1048566          53690      799848           0          6656   \n",
       "\n",
       "         CustAccountBalance  TransactionTime  TransactionAmount (INR)  \n",
       "0                  17819.05           143207                     25.0  \n",
       "1                   2270.69           141858                  27999.0  \n",
       "2                  17874.44           142712                    459.0  \n",
       "3                 866503.21           142714                   2060.0  \n",
       "4                   6714.43           181156                   1762.5  \n",
       "...                     ...              ...                      ...  \n",
       "1048562             7635.19           184824                    799.0  \n",
       "1048563            27311.42           183734                    460.0  \n",
       "1048564           221757.06           183313                    770.0  \n",
       "1048565            10117.87           184706                   1000.0  \n",
       "1048566            75734.42           181222                   1166.0  \n",
       "\n",
       "[1041614 rows x 7 columns]"
      ]
     },
     "metadata": {},
     "output_type": "display_data"
    }
   ],
   "source": [
    "display(df)"
   ]
  },
  {
   "attachments": {},
   "cell_type": "markdown",
   "metadata": {},
   "source": [
    "# Implementacion con librerias"
   ]
  },
  {
   "cell_type": "code",
   "execution_count": 32,
   "metadata": {},
   "outputs": [
    {
     "data": {
      "image/png": "[encoded data removed]",
      "text/plain": [
       "<Figure size 432x288 with 1 Axes>"
      ]
     },
     "metadata": {
      "needs_background": "light"
     },
     "output_type": "display_data"
    }
   ],
   "source": [
    "from sklearn.preprocessing import MinMaxScaler\n",
    "from sklearn.mixture import GaussianMixture\n",
    "import matplotlib.pyplot as plt\n",
    "\n",
    "X = df[['CustAccountBalance', 'TransactionAmount (INR)']]\n",
    "\n",
    "scaler = MinMaxScaler()\n",
    "X = scaler.fit_transform(X)\n",
    "\n",
    "n_components = 3\n",
    "gmm = GaussianMixture(n_components=n_components)\n",
    "gmm.fit(X)\n",
    "\n",
    "centroids = gmm.means_\n",
    "labels = gmm.predict(X)\n",
    "plt.scatter(X[:, 0], X[:, 1], c=labels, cmap='viridis')\n",
    "plt.scatter(centroids[:, 0], centroids[:, 1], marker='o', s=300, linewidths=3,color='r', zorder=10)\n",
    "plt.xlabel('CustAccountBalance')\n",
    "plt.ylabel('TransactionAmount (INR)')\n",
    "plt.show()\n"
   ]
  },
  {
   "attachments": {},
   "cell_type": "markdown",
   "metadata": {},
   "source": [
    "# Implementacion sin librerias"
   ]
  },
  {
   "cell_type": "code",
   "execution_count": 47,
   "metadata": {},
   "outputs": [
    {
     "name": "stderr",
     "output_type": "stream",
     "text": [
      "C:\\Users\\charl\\AppData\\Local\\Temp\\ipykernel_20072\\3054066444.py:16: RuntimeWarning: divide by zero encountered in log\n",
      "  return np.sum(np.log(p))\n",
      "C:\\Users\\charl\\AppData\\Local\\Temp\\ipykernel_20072\\3054066444.py:43: RuntimeWarning: invalid value encountered in scalar subtract\n",
      "  if np.abs(loglik - loglik_old) < tol:\n",
      "C:\\Users\\charl\\AppData\\Local\\Temp\\ipykernel_20072\\3054066444.py:9: RuntimeWarning: divide by zero encountered in scalar divide\n",
      "  pdf1 = (1 / np.sqrt(2 * np.pi * sig1**2)) * np.exp(-(x - mu1)**2 / (2 * sig1**2))\n",
      "C:\\Users\\charl\\AppData\\Local\\Temp\\ipykernel_20072\\3054066444.py:9: RuntimeWarning: divide by zero encountered in divide\n",
      "  pdf1 = (1 / np.sqrt(2 * np.pi * sig1**2)) * np.exp(-(x - mu1)**2 / (2 * sig1**2))\n",
      "C:\\Users\\charl\\AppData\\Local\\Temp\\ipykernel_20072\\3054066444.py:9: RuntimeWarning: invalid value encountered in divide\n",
      "  pdf1 = (1 / np.sqrt(2 * np.pi * sig1**2)) * np.exp(-(x - mu1)**2 / (2 * sig1**2))\n",
      "C:\\Users\\charl\\AppData\\Local\\Temp\\ipykernel_20072\\3054066444.py:9: RuntimeWarning: invalid value encountered in multiply\n",
      "  pdf1 = (1 / np.sqrt(2 * np.pi * sig1**2)) * np.exp(-(x - mu1)**2 / (2 * sig1**2))\n",
      "C:\\Users\\charl\\AppData\\Local\\Temp\\ipykernel_20072\\3054066444.py:10: RuntimeWarning: divide by zero encountered in scalar divide\n",
      "  pdf2 = (1 / np.sqrt(2 * np.pi * sig2**2)) * np.exp(-(x - mu2)**2 / (2 * sig2**2))\n",
      "C:\\Users\\charl\\AppData\\Local\\Temp\\ipykernel_20072\\3054066444.py:10: RuntimeWarning: divide by zero encountered in divide\n",
      "  pdf2 = (1 / np.sqrt(2 * np.pi * sig2**2)) * np.exp(-(x - mu2)**2 / (2 * sig2**2))\n",
      "C:\\Users\\charl\\AppData\\Local\\Temp\\ipykernel_20072\\3054066444.py:10: RuntimeWarning: invalid value encountered in divide\n",
      "  pdf2 = (1 / np.sqrt(2 * np.pi * sig2**2)) * np.exp(-(x - mu2)**2 / (2 * sig2**2))\n",
      "C:\\Users\\charl\\AppData\\Local\\Temp\\ipykernel_20072\\3054066444.py:10: RuntimeWarning: invalid value encountered in multiply\n",
      "  pdf2 = (1 / np.sqrt(2 * np.pi * sig2**2)) * np.exp(-(x - mu2)**2 / (2 * sig2**2))\n"
     ]
    },
    {
     "data": {
      "image/png": "[encoded data removed]",
      "text/plain": [
       "<Figure size 432x288 with 1 Axes>"
      ]
     },
     "metadata": {
      "needs_background": "light"
     },
     "output_type": "display_data"
    }
   ],
   "source": [
    "import numpy as np\n",
    "import pandas as pd\n",
    "import matplotlib.pyplot as plt\n",
    "\n",
    "X = df[['CustAccountBalance', 'TransactionAmount (INR)']].values\n",
    "\n",
    "\n",
    "def mixture_pdf(x, mu1, mu2, sig1, sig2, w1):\n",
    "    pdf1 = (1 / np.sqrt(2 * np.pi * sig1**2)) * np.exp(-(x - mu1)**2 / (2 * sig1**2))\n",
    "    pdf2 = (1 / np.sqrt(2 * np.pi * sig2**2)) * np.exp(-(x - mu2)**2 / (2 * sig2**2))\n",
    "    return w1 * pdf1 + (1 - w1) * pdf2\n",
    "\n",
    "\n",
    "def log_likelihood(x, mu1, mu2, sig1, sig2, w1):\n",
    "    p = mixture_pdf(x, mu1, mu2, sig1, sig2, w1)\n",
    "    return np.sum(np.log(p))\n",
    "\n",
    "\n",
    "def fit_mixture_model(x, n_iter=100, tol=1e-6):\n",
    "\n",
    "    mu1 = np.mean(x)\n",
    "    mu2 = np.mean(x) + np.std(x)\n",
    "    sig1 = np.std(x)\n",
    "    sig2 = np.std(x)\n",
    "    w1 = 0.5\n",
    "    loglik_old = -np.inf\n",
    "\n",
    "\n",
    "    for i in range(n_iter):\n",
    "\n",
    "        p1 = mixture_pdf(x, mu1, mu2, sig1, sig2, w1)\n",
    "        p2 = mixture_pdf(x, mu2, mu1, sig2, sig1, 1 - w1)\n",
    "        w1 = np.mean(p1) / (np.mean(p1) + np.mean(p2))\n",
    "\n",
    "\n",
    "        mu1 = np.sum(p1 * x) / np.sum(p1)\n",
    "        mu2 = np.sum(p2 * x) / np.sum(p2)\n",
    "        sig1 = np.sqrt(np.sum(p1 * (x - mu1)**2) / np.sum(p1))\n",
    "        sig2 = np.sqrt(np.sum(p2 * (x - mu2)**2) / np.sum(p2))\n",
    "\n",
    "\n",
    "        loglik = log_likelihood(x, mu1, mu2, sig1, sig2, w1)\n",
    "        if np.abs(loglik - loglik_old) < tol:\n",
    "            break\n",
    "        loglik_old = loglik\n",
    "\n",
    "    return mu1, mu2, sig1, sig2, w1\n",
    "\n",
    "\n",
    "mu1, mu2, sig1, sig2, w1 = fit_mixture_model(X)\n",
    "\n",
    "\n",
    "Y = df['CustGender'].values\n",
    "\n",
    "plt.scatter(X[:,0], X[:,1], alpha=0.5)\n",
    "plt.scatter(Y, X[:,1], alpha=0.5)\n",
    "plt.xlabel('CustAccountBalance')\n",
    "plt.ylabel('Transaction Amount')\n",
    "plt.show()\n"
   ]
  }
 ],
 "metadata": {
  "kernelspec": {
   "display_name": "Python 3",
   "language": "python",
   "name": "python3"
  },
  "language_info": {
   "codemirror_mode": {
    "name": "ipython",
    "version": 3
   },
   "file_extension": ".py",
   "mimetype": "text/x-python",
   "name": "python",
   "nbconvert_exporter": "python",
   "pygments_lexer": "ipython3",
   "version": "3.10.2"
  },
  "orig_nbformat": 4
 },
 "nbformat": 4,
 "nbformat_minor": 2
}
